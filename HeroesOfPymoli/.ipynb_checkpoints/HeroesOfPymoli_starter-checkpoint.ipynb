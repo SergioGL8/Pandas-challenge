{
 "cells": [
  {
   "cell_type": "markdown",
   "metadata": {},
   "source": [
    "### Note\n",
    "* Instructions have been included for each segment. You do not have to follow them exactly, but they are included to help you think through the steps."
   ]
  },
  {
   "cell_type": "code",
   "execution_count": 1,
   "metadata": {},
   "outputs": [
    {
     "name": "stdout",
     "output_type": "stream",
     "text": [
      "     Purchase ID             SN  Age  Gender  Item ID  \\\n",
      "0              0        Lisim78   20    Male      108   \n",
      "1              1    Lisovynya38   40    Male      143   \n",
      "2              2     Ithergue48   24    Male       92   \n",
      "3              3  Chamassasya86   24    Male      100   \n",
      "4              4      Iskosia90   23    Male      131   \n",
      "..           ...            ...  ...     ...      ...   \n",
      "775          775     Aethedru70   21  Female       60   \n",
      "776          776         Iral74   21    Male      164   \n",
      "777          777     Yathecal72   20    Male       67   \n",
      "778          778        Sisur91    7    Male       92   \n",
      "779          779      Ennrian78   24    Male       50   \n",
      "\n",
      "                                     Item Name  Price  \n",
      "0    Extraction, Quickblade Of Trembling Hands   3.53  \n",
      "1                            Frenzied Scimitar   1.56  \n",
      "2                                 Final Critic   4.88  \n",
      "3                                  Blindscythe   3.27  \n",
      "4                                         Fury   1.44  \n",
      "..                                         ...    ...  \n",
      "775                                       Wolf   3.54  \n",
      "776                           Exiled Doomblade   1.63  \n",
      "777      Celeste, Incarnation of the Corrupted   3.46  \n",
      "778                               Final Critic   4.19  \n",
      "779                                       Dawn   4.60  \n",
      "\n",
      "[780 rows x 7 columns]\n"
     ]
    }
   ],
   "source": [
    "# Dependencies and Setup\n",
    "import pandas as pd\n",
    "\n",
    "# Raw data file\n",
    "file_to_load = \"Resources/purchase_data.csv\"\n",
    "\n",
    "# Read purchasing file and store into pandas data frame\n",
    "purchase_data = pd.read_csv(file_to_load)\n",
    "print(purchase_data)"
   ]
  },
  {
   "cell_type": "markdown",
   "metadata": {},
   "source": [
    "## Player Count"
   ]
  },
  {
   "cell_type": "markdown",
   "metadata": {},
   "source": [
    "* Display the total number of players"
   ]
  },
  {
   "cell_type": "code",
   "execution_count": 2,
   "metadata": {
    "scrolled": true
   },
   "outputs": [
    {
     "data": {
      "text/html": [
       "<div>\n",
       "<style scoped>\n",
       "    .dataframe tbody tr th:only-of-type {\n",
       "        vertical-align: middle;\n",
       "    }\n",
       "\n",
       "    .dataframe tbody tr th {\n",
       "        vertical-align: top;\n",
       "    }\n",
       "\n",
       "    .dataframe thead th {\n",
       "        text-align: right;\n",
       "    }\n",
       "</style>\n",
       "<table border=\"1\" class=\"dataframe\">\n",
       "  <thead>\n",
       "    <tr style=\"text-align: right;\">\n",
       "      <th></th>\n",
       "      <th>Total Players</th>\n",
       "    </tr>\n",
       "  </thead>\n",
       "  <tbody>\n",
       "    <tr>\n",
       "      <th>0</th>\n",
       "      <td>576</td>\n",
       "    </tr>\n",
       "  </tbody>\n",
       "</table>\n",
       "</div>"
      ],
      "text/plain": [
       "   Total Players\n",
       "0            576"
      ]
     },
     "execution_count": 2,
     "metadata": {},
     "output_type": "execute_result"
    }
   ],
   "source": [
    "# Use the length to calculate the unique total players\n",
    "total_players = len(purchase_data[\"SN\"].unique())\n",
    "#total_platers\n",
    "\n",
    "# Create a data frame to show the total number of players\n",
    "number_players = pd.DataFrame({\"Total Players\":[total_players]})\n",
    "number_players"
   ]
  },
  {
   "cell_type": "markdown",
   "metadata": {},
   "source": [
    "## Purchasing Analysis (Total)"
   ]
  },
  {
   "cell_type": "markdown",
   "metadata": {},
   "source": [
    "* Number of Unique Items\n",
    "\n",
    "\n",
    "* Average Purchase Price\n",
    "\n",
    "\n",
    "* Total Number of Purchases\n",
    "\n",
    "\n",
    "* Total Revenue\n",
    "\n",
    "\n"
   ]
  },
  {
   "cell_type": "code",
   "execution_count": 3,
   "metadata": {},
   "outputs": [
    {
     "data": {
      "text/html": [
       "<style  type=\"text/css\" >\n",
       "</style><table id=\"T_ac2764e2_e429_11ea_85f2_4ceb4264986b\" ><thead>    <tr>        <th class=\"blank level0\" ></th>        <th class=\"col_heading level0 col0\" >Number of Unique Items</th>        <th class=\"col_heading level0 col1\" >Average Price</th>        <th class=\"col_heading level0 col2\" >Number of Purchases</th>        <th class=\"col_heading level0 col3\" >Total Revenue</th>    </tr></thead><tbody>\n",
       "                <tr>\n",
       "                        <th id=\"T_ac2764e2_e429_11ea_85f2_4ceb4264986blevel0_row0\" class=\"row_heading level0 row0\" >0</th>\n",
       "                        <td id=\"T_ac2764e2_e429_11ea_85f2_4ceb4264986brow0_col0\" class=\"data row0 col0\" >179</td>\n",
       "                        <td id=\"T_ac2764e2_e429_11ea_85f2_4ceb4264986brow0_col1\" class=\"data row0 col1\" >$3.05</td>\n",
       "                        <td id=\"T_ac2764e2_e429_11ea_85f2_4ceb4264986brow0_col2\" class=\"data row0 col2\" >780</td>\n",
       "                        <td id=\"T_ac2764e2_e429_11ea_85f2_4ceb4264986brow0_col3\" class=\"data row0 col3\" >$2,379.77</td>\n",
       "            </tr>\n",
       "    </tbody></table>"
      ],
      "text/plain": [
       "<pandas.io.formats.style.Styler at 0x24b3fad4d88>"
      ]
     },
     "execution_count": 3,
     "metadata": {},
     "output_type": "execute_result"
    }
   ],
   "source": [
    "# Calculations for unique items, average price, purchase count, and revenue\n",
    "number_of_items = len((purchase_data[\"Item ID\"]).unique())\n",
    "average_price = (purchase_data[\"Price\"]).mean()\n",
    "number_of_purchases = (purchase_data[\"Purchase ID\"]).count()\n",
    "total_revenue = (purchase_data[\"Price\"]).sum()\n",
    "#number_of_items, average_price, number_of_purchases, total_revenue\n",
    "\n",
    "# Create data frame and cleaning format\n",
    "summary_df = pd.DataFrame({\"Number of Unique Items\":[number_of_items],\n",
    "                           \"Average Price\":[average_price], \n",
    "                           \"Number of Purchases\": [number_of_purchases], \n",
    "                           \"Total Revenue\": [total_revenue]})\n",
    "\n",
    "summary_df.style.format({'Average Price':\"${:,.2f}\",\n",
    "                         'Total Revenue': '${:,.2f}'})"
   ]
  },
  {
   "cell_type": "markdown",
   "metadata": {},
   "source": [
    "## Gender Demographics"
   ]
  },
  {
   "cell_type": "markdown",
   "metadata": {},
   "source": [
    "* Percentage and Count of Male Players\n",
    "\n",
    "\n",
    "* Percentage and Count of Female Players\n",
    "\n",
    "\n",
    "* Percentage and Count of Other / Non-Disclosed\n",
    "\n",
    "\n",
    "* Display the summary data frame"
   ]
  },
  {
   "cell_type": "code",
   "execution_count": 4,
   "metadata": {
    "scrolled": true
   },
   "outputs": [
    {
     "data": {
      "text/html": [
       "<style  type=\"text/css\" >\n",
       "</style><table id=\"T_ad7ed930_e429_11ea_8340_4ceb4264986b\" ><thead>    <tr>        <th class=\"blank level0\" ></th>        <th class=\"col_heading level0 col0\" >Percentage of Players</th>        <th class=\"col_heading level0 col1\" >Total Count</th>    </tr>    <tr>        <th class=\"index_name level0\" >Gender</th>        <th class=\"blank\" ></th>        <th class=\"blank\" ></th>    </tr></thead><tbody>\n",
       "                <tr>\n",
       "                        <th id=\"T_ad7ed930_e429_11ea_8340_4ceb4264986blevel0_row0\" class=\"row_heading level0 row0\" >Female</th>\n",
       "                        <td id=\"T_ad7ed930_e429_11ea_8340_4ceb4264986brow0_col0\" class=\"data row0 col0\" >14.06%</td>\n",
       "                        <td id=\"T_ad7ed930_e429_11ea_8340_4ceb4264986brow0_col1\" class=\"data row0 col1\" >$81.00</td>\n",
       "            </tr>\n",
       "            <tr>\n",
       "                        <th id=\"T_ad7ed930_e429_11ea_8340_4ceb4264986blevel0_row1\" class=\"row_heading level0 row1\" >Male</th>\n",
       "                        <td id=\"T_ad7ed930_e429_11ea_8340_4ceb4264986brow1_col0\" class=\"data row1 col0\" >84.03%</td>\n",
       "                        <td id=\"T_ad7ed930_e429_11ea_8340_4ceb4264986brow1_col1\" class=\"data row1 col1\" >$484.00</td>\n",
       "            </tr>\n",
       "            <tr>\n",
       "                        <th id=\"T_ad7ed930_e429_11ea_8340_4ceb4264986blevel0_row2\" class=\"row_heading level0 row2\" >Other / Non-Disclosed</th>\n",
       "                        <td id=\"T_ad7ed930_e429_11ea_8340_4ceb4264986brow2_col0\" class=\"data row2 col0\" >1.91%</td>\n",
       "                        <td id=\"T_ad7ed930_e429_11ea_8340_4ceb4264986brow2_col1\" class=\"data row2 col1\" >$11.00</td>\n",
       "            </tr>\n",
       "    </tbody></table>"
      ],
      "text/plain": [
       "<pandas.io.formats.style.Styler at 0x24b3ff2f208>"
      ]
     },
     "execution_count": 4,
     "metadata": {},
     "output_type": "execute_result"
    }
   ],
   "source": [
    "# Group and Count by Gender\n",
    "gender_count = purchase_data.groupby(\"Gender\")\n",
    "total_gender = gender_count.nunique()[\"SN\"]\n",
    "#gender_count,total_gender\n",
    "\n",
    "# Calculate the percentage of male, female and other\n",
    "percentage = total_gender / total_players * 100\n",
    "#percentage\n",
    "\n",
    "# Create data frame and cleaning format\n",
    "gender_table = pd.DataFrame({\"Percentage of Players\": percentage, \"Total Count\": total_gender})\n",
    "gender_table.style.format({'Percentage of Players':\"{:,.2f}%\",\n",
    "                         'Total Count': '${:,.2f}'})"
   ]
  },
  {
   "cell_type": "markdown",
   "metadata": {},
   "source": [
    "\n",
    "## Purchasing Analysis (Gender)"
   ]
  },
  {
   "cell_type": "markdown",
   "metadata": {},
   "source": [
    "* Run basic calculations to obtain purchase count, avg. purchase price, avg. purchase total per person etc. by gender\n",
    "\n",
    "\n",
    "\n",
    "\n",
    "* Create a summary data frame to hold the results\n",
    "\n",
    "\n",
    "* Optional: give the displayed data cleaner formatting\n",
    "\n",
    "\n",
    "* Display the summary data frame"
   ]
  },
  {
   "cell_type": "code",
   "execution_count": 5,
   "metadata": {},
   "outputs": [
    {
     "data": {
      "text/html": [
       "<style  type=\"text/css\" >\n",
       "</style><table id=\"T_aeb5d1c6_e429_11ea_a51f_4ceb4264986b\" ><thead>    <tr>        <th class=\"blank level0\" ></th>        <th class=\"col_heading level0 col0\" >Purchase Count</th>        <th class=\"col_heading level0 col1\" >Average Purchase Price</th>        <th class=\"col_heading level0 col2\" >Average Purchase Value</th>        <th class=\"col_heading level0 col3\" >Avg Purchase Total per Person</th>    </tr>    <tr>        <th class=\"index_name level0\" >Gender</th>        <th class=\"blank\" ></th>        <th class=\"blank\" ></th>        <th class=\"blank\" ></th>        <th class=\"blank\" ></th>    </tr></thead><tbody>\n",
       "                <tr>\n",
       "                        <th id=\"T_aeb5d1c6_e429_11ea_a51f_4ceb4264986blevel0_row0\" class=\"row_heading level0 row0\" >Female</th>\n",
       "                        <td id=\"T_aeb5d1c6_e429_11ea_a51f_4ceb4264986brow0_col0\" class=\"data row0 col0\" >113</td>\n",
       "                        <td id=\"T_aeb5d1c6_e429_11ea_a51f_4ceb4264986brow0_col1\" class=\"data row0 col1\" >$3.20</td>\n",
       "                        <td id=\"T_aeb5d1c6_e429_11ea_a51f_4ceb4264986brow0_col2\" class=\"data row0 col2\" >$361.94</td>\n",
       "                        <td id=\"T_aeb5d1c6_e429_11ea_a51f_4ceb4264986brow0_col3\" class=\"data row0 col3\" >$4.47</td>\n",
       "            </tr>\n",
       "            <tr>\n",
       "                        <th id=\"T_aeb5d1c6_e429_11ea_a51f_4ceb4264986blevel0_row1\" class=\"row_heading level0 row1\" >Male</th>\n",
       "                        <td id=\"T_aeb5d1c6_e429_11ea_a51f_4ceb4264986brow1_col0\" class=\"data row1 col0\" >652</td>\n",
       "                        <td id=\"T_aeb5d1c6_e429_11ea_a51f_4ceb4264986brow1_col1\" class=\"data row1 col1\" >$3.02</td>\n",
       "                        <td id=\"T_aeb5d1c6_e429_11ea_a51f_4ceb4264986brow1_col2\" class=\"data row1 col2\" >$1,967.64</td>\n",
       "                        <td id=\"T_aeb5d1c6_e429_11ea_a51f_4ceb4264986brow1_col3\" class=\"data row1 col3\" >$4.07</td>\n",
       "            </tr>\n",
       "            <tr>\n",
       "                        <th id=\"T_aeb5d1c6_e429_11ea_a51f_4ceb4264986blevel0_row2\" class=\"row_heading level0 row2\" >Other / Non-Disclosed</th>\n",
       "                        <td id=\"T_aeb5d1c6_e429_11ea_a51f_4ceb4264986brow2_col0\" class=\"data row2 col0\" >15</td>\n",
       "                        <td id=\"T_aeb5d1c6_e429_11ea_a51f_4ceb4264986brow2_col1\" class=\"data row2 col1\" >$3.35</td>\n",
       "                        <td id=\"T_aeb5d1c6_e429_11ea_a51f_4ceb4264986brow2_col2\" class=\"data row2 col2\" >$50.19</td>\n",
       "                        <td id=\"T_aeb5d1c6_e429_11ea_a51f_4ceb4264986brow2_col3\" class=\"data row2 col3\" >$4.56</td>\n",
       "            </tr>\n",
       "    </tbody></table>"
      ],
      "text/plain": [
       "<pandas.io.formats.style.Styler at 0x24b4096bd08>"
      ]
     },
     "execution_count": 5,
     "metadata": {},
     "output_type": "execute_result"
    }
   ],
   "source": [
    "# Obtaining purchase count, avg. purchase price, average purchase value and avg. purchase total per person by gender\n",
    "count = gender_count[\"Purchase ID\"].count()\n",
    "avg_price = gender_count[\"Price\"].mean()\n",
    "avg_total = gender_count[\"Price\"].sum()\n",
    "avg_per_person = avg_total/total_gender\n",
    "#count, avg_price, avg_total, avg_per_person\n",
    "\n",
    "# Create data frame and cleaning format\n",
    "summary_gender = pd.DataFrame({\"Purchase Count\": count, \n",
    "                                    \"Average Purchase Price\": avg_price,\n",
    "                                    \"Average Purchase Value\":avg_total,\n",
    "                                    \"Avg Purchase Total per Person\": avg_per_person})\n",
    "\n",
    "summary_gender.style.format({\"Average Purchase Value\":\"${:,.2f}\",\n",
    "                                  \"Average Purchase Price\":\"${:,.2f}\",\n",
    "                                  \"Avg Purchase Total per Person\":\"${:,.2f}\"})"
   ]
  },
  {
   "cell_type": "markdown",
   "metadata": {},
   "source": [
    "## Age Demographics"
   ]
  },
  {
   "cell_type": "markdown",
   "metadata": {},
   "source": [
    "* Establish bins for ages\n",
    "\n",
    "\n",
    "* Categorize the existing players using the age bins. Hint: use pd.cut()\n",
    "\n",
    "\n",
    "* Calculate the numbers and percentages by age group\n",
    "\n",
    "\n",
    "* Create a summary data frame to hold the results\n",
    "\n",
    "\n",
    "* Optional: round the percentage column to two decimal points\n",
    "\n",
    "\n",
    "* Display Age Demographics Table\n"
   ]
  },
  {
   "cell_type": "code",
   "execution_count": 6,
   "metadata": {},
   "outputs": [
    {
     "data": {
      "text/html": [
       "<style  type=\"text/css\" >\n",
       "</style><table id=\"T_b001bcd0_e429_11ea_9beb_4ceb4264986b\" ><thead>    <tr>        <th class=\"blank level0\" ></th>        <th class=\"col_heading level0 col0\" >Total Count</th>        <th class=\"col_heading level0 col1\" >Percentage of Players</th>    </tr>    <tr>        <th class=\"index_name level0\" >Ages</th>        <th class=\"blank\" ></th>        <th class=\"blank\" ></th>    </tr></thead><tbody>\n",
       "                <tr>\n",
       "                        <th id=\"T_b001bcd0_e429_11ea_9beb_4ceb4264986blevel0_row0\" class=\"row_heading level0 row0\" ><10</th>\n",
       "                        <td id=\"T_b001bcd0_e429_11ea_9beb_4ceb4264986brow0_col0\" class=\"data row0 col0\" >17</td>\n",
       "                        <td id=\"T_b001bcd0_e429_11ea_9beb_4ceb4264986brow0_col1\" class=\"data row0 col1\" >2.95%</td>\n",
       "            </tr>\n",
       "            <tr>\n",
       "                        <th id=\"T_b001bcd0_e429_11ea_9beb_4ceb4264986blevel0_row1\" class=\"row_heading level0 row1\" >10-14</th>\n",
       "                        <td id=\"T_b001bcd0_e429_11ea_9beb_4ceb4264986brow1_col0\" class=\"data row1 col0\" >22</td>\n",
       "                        <td id=\"T_b001bcd0_e429_11ea_9beb_4ceb4264986brow1_col1\" class=\"data row1 col1\" >3.82%</td>\n",
       "            </tr>\n",
       "            <tr>\n",
       "                        <th id=\"T_b001bcd0_e429_11ea_9beb_4ceb4264986blevel0_row2\" class=\"row_heading level0 row2\" >15-19</th>\n",
       "                        <td id=\"T_b001bcd0_e429_11ea_9beb_4ceb4264986brow2_col0\" class=\"data row2 col0\" >107</td>\n",
       "                        <td id=\"T_b001bcd0_e429_11ea_9beb_4ceb4264986brow2_col1\" class=\"data row2 col1\" >18.58%</td>\n",
       "            </tr>\n",
       "            <tr>\n",
       "                        <th id=\"T_b001bcd0_e429_11ea_9beb_4ceb4264986blevel0_row3\" class=\"row_heading level0 row3\" >20-24</th>\n",
       "                        <td id=\"T_b001bcd0_e429_11ea_9beb_4ceb4264986brow3_col0\" class=\"data row3 col0\" >258</td>\n",
       "                        <td id=\"T_b001bcd0_e429_11ea_9beb_4ceb4264986brow3_col1\" class=\"data row3 col1\" >44.79%</td>\n",
       "            </tr>\n",
       "            <tr>\n",
       "                        <th id=\"T_b001bcd0_e429_11ea_9beb_4ceb4264986blevel0_row4\" class=\"row_heading level0 row4\" >25-29</th>\n",
       "                        <td id=\"T_b001bcd0_e429_11ea_9beb_4ceb4264986brow4_col0\" class=\"data row4 col0\" >77</td>\n",
       "                        <td id=\"T_b001bcd0_e429_11ea_9beb_4ceb4264986brow4_col1\" class=\"data row4 col1\" >13.37%</td>\n",
       "            </tr>\n",
       "            <tr>\n",
       "                        <th id=\"T_b001bcd0_e429_11ea_9beb_4ceb4264986blevel0_row5\" class=\"row_heading level0 row5\" >30-34</th>\n",
       "                        <td id=\"T_b001bcd0_e429_11ea_9beb_4ceb4264986brow5_col0\" class=\"data row5 col0\" >52</td>\n",
       "                        <td id=\"T_b001bcd0_e429_11ea_9beb_4ceb4264986brow5_col1\" class=\"data row5 col1\" >9.03%</td>\n",
       "            </tr>\n",
       "            <tr>\n",
       "                        <th id=\"T_b001bcd0_e429_11ea_9beb_4ceb4264986blevel0_row6\" class=\"row_heading level0 row6\" >35-39</th>\n",
       "                        <td id=\"T_b001bcd0_e429_11ea_9beb_4ceb4264986brow6_col0\" class=\"data row6 col0\" >31</td>\n",
       "                        <td id=\"T_b001bcd0_e429_11ea_9beb_4ceb4264986brow6_col1\" class=\"data row6 col1\" >5.38%</td>\n",
       "            </tr>\n",
       "            <tr>\n",
       "                        <th id=\"T_b001bcd0_e429_11ea_9beb_4ceb4264986blevel0_row7\" class=\"row_heading level0 row7\" >40+</th>\n",
       "                        <td id=\"T_b001bcd0_e429_11ea_9beb_4ceb4264986brow7_col0\" class=\"data row7 col0\" >12</td>\n",
       "                        <td id=\"T_b001bcd0_e429_11ea_9beb_4ceb4264986brow7_col1\" class=\"data row7 col1\" >2.08%</td>\n",
       "            </tr>\n",
       "    </tbody></table>"
      ],
      "text/plain": [
       "<pandas.io.formats.style.Styler at 0x24b40971308>"
      ]
     },
     "execution_count": 6,
     "metadata": {},
     "output_type": "execute_result"
    }
   ],
   "source": [
    "# Establish bins for ages\n",
    "bins = [0, 9.90, 14.90, 19.90, 24.90, 29.90, 34.90, 39.90, 99999]\n",
    "group_names = [\"<10\", \"10-14\", \"15-19\", \"20-24\", \"25-29\", \"30-34\", \"35-39\", \"40+\"]\n",
    "\n",
    "# Categorize the existing players using pd,cut()\n",
    "purchase_data[\"Ages\"] = pd.cut(purchase_data[\"Age\"],bins, labels=group_names)\n",
    "#print(purchase_data)\n",
    "\n",
    "# Create data frame with the new \"Age\"\n",
    "new_ages = purchase_data.groupby(\"Ages\")\n",
    "\n",
    "#Calculate the numbers and percentages by age group\n",
    "total_age = new_ages[\"SN\"].nunique()\n",
    "percent_age = (total_age/total_players) * 100\n",
    "#print(total_age, percent_age)\n",
    "\n",
    "# Create data frame and cleaning format\n",
    "summary_age= pd.DataFrame({\"Total Count\": total_age, \"Percentage of Players\": percent_age})\n",
    "summary_age.style.format({\"Percentage of Players\":\"{:,.2f}%\"})"
   ]
  },
  {
   "cell_type": "markdown",
   "metadata": {},
   "source": [
    "## Purchasing Analysis (Age)"
   ]
  },
  {
   "cell_type": "markdown",
   "metadata": {},
   "source": [
    "* Bin the purchase_data data frame by age\n",
    "\n",
    "\n",
    "* Run basic calculations to obtain purchase count, avg. purchase price, avg. purchase total per person etc. in the table below\n",
    "\n",
    "\n",
    "* Create a summary data frame to hold the results\n",
    "\n",
    "\n",
    "* Optional: give the displayed data cleaner formatting\n",
    "\n",
    "\n",
    "* Display the summary data frame"
   ]
  },
  {
   "cell_type": "code",
   "execution_count": 7,
   "metadata": {},
   "outputs": [
    {
     "data": {
      "text/html": [
       "<style  type=\"text/css\" >\n",
       "</style><table id=\"T_b1393414_e429_11ea_b519_4ceb4264986b\" ><thead>    <tr>        <th class=\"blank level0\" ></th>        <th class=\"col_heading level0 col0\" >Purchase Count</th>        <th class=\"col_heading level0 col1\" >Average Purchase Price</th>        <th class=\"col_heading level0 col2\" >Total Purchase Value</th>        <th class=\"col_heading level0 col3\" >Avg Purchase Total per Person</th>    </tr>    <tr>        <th class=\"index_name level0\" >Ages</th>        <th class=\"blank\" ></th>        <th class=\"blank\" ></th>        <th class=\"blank\" ></th>        <th class=\"blank\" ></th>    </tr></thead><tbody>\n",
       "                <tr>\n",
       "                        <th id=\"T_b1393414_e429_11ea_b519_4ceb4264986blevel0_row0\" class=\"row_heading level0 row0\" ><10</th>\n",
       "                        <td id=\"T_b1393414_e429_11ea_b519_4ceb4264986brow0_col0\" class=\"data row0 col0\" >23</td>\n",
       "                        <td id=\"T_b1393414_e429_11ea_b519_4ceb4264986brow0_col1\" class=\"data row0 col1\" >$3.35</td>\n",
       "                        <td id=\"T_b1393414_e429_11ea_b519_4ceb4264986brow0_col2\" class=\"data row0 col2\" >$77.13</td>\n",
       "                        <td id=\"T_b1393414_e429_11ea_b519_4ceb4264986brow0_col3\" class=\"data row0 col3\" >$4.54</td>\n",
       "            </tr>\n",
       "            <tr>\n",
       "                        <th id=\"T_b1393414_e429_11ea_b519_4ceb4264986blevel0_row1\" class=\"row_heading level0 row1\" >10-14</th>\n",
       "                        <td id=\"T_b1393414_e429_11ea_b519_4ceb4264986brow1_col0\" class=\"data row1 col0\" >28</td>\n",
       "                        <td id=\"T_b1393414_e429_11ea_b519_4ceb4264986brow1_col1\" class=\"data row1 col1\" >$2.96</td>\n",
       "                        <td id=\"T_b1393414_e429_11ea_b519_4ceb4264986brow1_col2\" class=\"data row1 col2\" >$82.78</td>\n",
       "                        <td id=\"T_b1393414_e429_11ea_b519_4ceb4264986brow1_col3\" class=\"data row1 col3\" >$3.76</td>\n",
       "            </tr>\n",
       "            <tr>\n",
       "                        <th id=\"T_b1393414_e429_11ea_b519_4ceb4264986blevel0_row2\" class=\"row_heading level0 row2\" >15-19</th>\n",
       "                        <td id=\"T_b1393414_e429_11ea_b519_4ceb4264986brow2_col0\" class=\"data row2 col0\" >136</td>\n",
       "                        <td id=\"T_b1393414_e429_11ea_b519_4ceb4264986brow2_col1\" class=\"data row2 col1\" >$3.04</td>\n",
       "                        <td id=\"T_b1393414_e429_11ea_b519_4ceb4264986brow2_col2\" class=\"data row2 col2\" >$412.89</td>\n",
       "                        <td id=\"T_b1393414_e429_11ea_b519_4ceb4264986brow2_col3\" class=\"data row2 col3\" >$3.86</td>\n",
       "            </tr>\n",
       "            <tr>\n",
       "                        <th id=\"T_b1393414_e429_11ea_b519_4ceb4264986blevel0_row3\" class=\"row_heading level0 row3\" >20-24</th>\n",
       "                        <td id=\"T_b1393414_e429_11ea_b519_4ceb4264986brow3_col0\" class=\"data row3 col0\" >365</td>\n",
       "                        <td id=\"T_b1393414_e429_11ea_b519_4ceb4264986brow3_col1\" class=\"data row3 col1\" >$3.05</td>\n",
       "                        <td id=\"T_b1393414_e429_11ea_b519_4ceb4264986brow3_col2\" class=\"data row3 col2\" >$1,114.06</td>\n",
       "                        <td id=\"T_b1393414_e429_11ea_b519_4ceb4264986brow3_col3\" class=\"data row3 col3\" >$4.32</td>\n",
       "            </tr>\n",
       "            <tr>\n",
       "                        <th id=\"T_b1393414_e429_11ea_b519_4ceb4264986blevel0_row4\" class=\"row_heading level0 row4\" >25-29</th>\n",
       "                        <td id=\"T_b1393414_e429_11ea_b519_4ceb4264986brow4_col0\" class=\"data row4 col0\" >101</td>\n",
       "                        <td id=\"T_b1393414_e429_11ea_b519_4ceb4264986brow4_col1\" class=\"data row4 col1\" >$2.90</td>\n",
       "                        <td id=\"T_b1393414_e429_11ea_b519_4ceb4264986brow4_col2\" class=\"data row4 col2\" >$293.00</td>\n",
       "                        <td id=\"T_b1393414_e429_11ea_b519_4ceb4264986brow4_col3\" class=\"data row4 col3\" >$3.81</td>\n",
       "            </tr>\n",
       "            <tr>\n",
       "                        <th id=\"T_b1393414_e429_11ea_b519_4ceb4264986blevel0_row5\" class=\"row_heading level0 row5\" >30-34</th>\n",
       "                        <td id=\"T_b1393414_e429_11ea_b519_4ceb4264986brow5_col0\" class=\"data row5 col0\" >73</td>\n",
       "                        <td id=\"T_b1393414_e429_11ea_b519_4ceb4264986brow5_col1\" class=\"data row5 col1\" >$2.93</td>\n",
       "                        <td id=\"T_b1393414_e429_11ea_b519_4ceb4264986brow5_col2\" class=\"data row5 col2\" >$214.00</td>\n",
       "                        <td id=\"T_b1393414_e429_11ea_b519_4ceb4264986brow5_col3\" class=\"data row5 col3\" >$4.12</td>\n",
       "            </tr>\n",
       "            <tr>\n",
       "                        <th id=\"T_b1393414_e429_11ea_b519_4ceb4264986blevel0_row6\" class=\"row_heading level0 row6\" >35-39</th>\n",
       "                        <td id=\"T_b1393414_e429_11ea_b519_4ceb4264986brow6_col0\" class=\"data row6 col0\" >41</td>\n",
       "                        <td id=\"T_b1393414_e429_11ea_b519_4ceb4264986brow6_col1\" class=\"data row6 col1\" >$3.60</td>\n",
       "                        <td id=\"T_b1393414_e429_11ea_b519_4ceb4264986brow6_col2\" class=\"data row6 col2\" >$147.67</td>\n",
       "                        <td id=\"T_b1393414_e429_11ea_b519_4ceb4264986brow6_col3\" class=\"data row6 col3\" >$4.76</td>\n",
       "            </tr>\n",
       "            <tr>\n",
       "                        <th id=\"T_b1393414_e429_11ea_b519_4ceb4264986blevel0_row7\" class=\"row_heading level0 row7\" >40+</th>\n",
       "                        <td id=\"T_b1393414_e429_11ea_b519_4ceb4264986brow7_col0\" class=\"data row7 col0\" >13</td>\n",
       "                        <td id=\"T_b1393414_e429_11ea_b519_4ceb4264986brow7_col1\" class=\"data row7 col1\" >$2.94</td>\n",
       "                        <td id=\"T_b1393414_e429_11ea_b519_4ceb4264986brow7_col2\" class=\"data row7 col2\" >$38.24</td>\n",
       "                        <td id=\"T_b1393414_e429_11ea_b519_4ceb4264986brow7_col3\" class=\"data row7 col3\" >$3.19</td>\n",
       "            </tr>\n",
       "    </tbody></table>"
      ],
      "text/plain": [
       "<pandas.io.formats.style.Styler at 0x24b4096b708>"
      ]
     },
     "execution_count": 7,
     "metadata": {},
     "output_type": "execute_result"
    }
   ],
   "source": [
    "#Run basic calculations to obtain purchase count, avg. purchase price, avg. purchase total per person etc. in the table below\n",
    "purchase_count = new_ages[\"Purchase ID\"].count()\n",
    "avg_purchase = new_ages[\"Price\"].mean()\n",
    "total_purchase = new_ages[\"Price\"].sum()\n",
    "avg_per_person = total_purchase/total_age\n",
    "#print(purchase_count, avg_purchase, total_purchase, avg_per_person)\n",
    "\n",
    "# Create data frame\n",
    "summary_age = pd.DataFrame({\"Purchase Count\": purchase_count,\n",
    "                                 \"Average Purchase Price\": avg_purchase,\n",
    "                                 \"Total Purchase Value\":total_purchase,\n",
    "                                 \"Avg Purchase Total per Person\": avg_per_person})\n",
    "\n",
    "#cleaner formatting\n",
    "summary_age.style.format({\"Average Purchase Price\":\"${:,.2f}\",\n",
    "                               \"Total Purchase Value\":\"${:,.2f}\",\n",
    "                               \"Avg Purchase Total per Person\":\"${:,.2f}\"})\n"
   ]
  },
  {
   "cell_type": "markdown",
   "metadata": {},
   "source": [
    "## Top Spenders"
   ]
  },
  {
   "cell_type": "markdown",
   "metadata": {},
   "source": [
    "* Run basic calculations to obtain the results in the table below\n",
    "\n",
    "\n",
    "* Create a summary data frame to hold the results\n",
    "\n",
    "\n",
    "* Sort the total purchase value column in descending order\n",
    "\n",
    "\n",
    "* Optional: give the displayed data cleaner formatting\n",
    "\n",
    "\n",
    "* Display a preview of the summary data frame\n",
    "\n"
   ]
  },
  {
   "cell_type": "code",
   "execution_count": 11,
   "metadata": {},
   "outputs": [
    {
     "data": {
      "text/html": [
       "<style  type=\"text/css\" >\n",
       "</style><table id=\"T_0de992b8_e42a_11ea_8cbd_4ceb4264986b\" ><thead>    <tr>        <th class=\"blank level0\" ></th>        <th class=\"col_heading level0 col0\" >Purchase Count</th>        <th class=\"col_heading level0 col1\" >Average Purchase Price</th>        <th class=\"col_heading level0 col2\" >Total Purchase Value</th>    </tr>    <tr>        <th class=\"index_name level0\" >SN</th>        <th class=\"blank\" ></th>        <th class=\"blank\" ></th>        <th class=\"blank\" ></th>    </tr></thead><tbody>\n",
       "                <tr>\n",
       "                        <th id=\"T_0de992b8_e42a_11ea_8cbd_4ceb4264986blevel0_row0\" class=\"row_heading level0 row0\" >Lisosia93</th>\n",
       "                        <td id=\"T_0de992b8_e42a_11ea_8cbd_4ceb4264986brow0_col0\" class=\"data row0 col0\" >5</td>\n",
       "                        <td id=\"T_0de992b8_e42a_11ea_8cbd_4ceb4264986brow0_col1\" class=\"data row0 col1\" >$3.79</td>\n",
       "                        <td id=\"T_0de992b8_e42a_11ea_8cbd_4ceb4264986brow0_col2\" class=\"data row0 col2\" >$18.96</td>\n",
       "            </tr>\n",
       "            <tr>\n",
       "                        <th id=\"T_0de992b8_e42a_11ea_8cbd_4ceb4264986blevel0_row1\" class=\"row_heading level0 row1\" >Idastidru52</th>\n",
       "                        <td id=\"T_0de992b8_e42a_11ea_8cbd_4ceb4264986brow1_col0\" class=\"data row1 col0\" >4</td>\n",
       "                        <td id=\"T_0de992b8_e42a_11ea_8cbd_4ceb4264986brow1_col1\" class=\"data row1 col1\" >$3.86</td>\n",
       "                        <td id=\"T_0de992b8_e42a_11ea_8cbd_4ceb4264986brow1_col2\" class=\"data row1 col2\" >$15.45</td>\n",
       "            </tr>\n",
       "            <tr>\n",
       "                        <th id=\"T_0de992b8_e42a_11ea_8cbd_4ceb4264986blevel0_row2\" class=\"row_heading level0 row2\" >Chamjask73</th>\n",
       "                        <td id=\"T_0de992b8_e42a_11ea_8cbd_4ceb4264986brow2_col0\" class=\"data row2 col0\" >3</td>\n",
       "                        <td id=\"T_0de992b8_e42a_11ea_8cbd_4ceb4264986brow2_col1\" class=\"data row2 col1\" >$4.61</td>\n",
       "                        <td id=\"T_0de992b8_e42a_11ea_8cbd_4ceb4264986brow2_col2\" class=\"data row2 col2\" >$13.83</td>\n",
       "            </tr>\n",
       "            <tr>\n",
       "                        <th id=\"T_0de992b8_e42a_11ea_8cbd_4ceb4264986blevel0_row3\" class=\"row_heading level0 row3\" >Iral74</th>\n",
       "                        <td id=\"T_0de992b8_e42a_11ea_8cbd_4ceb4264986brow3_col0\" class=\"data row3 col0\" >4</td>\n",
       "                        <td id=\"T_0de992b8_e42a_11ea_8cbd_4ceb4264986brow3_col1\" class=\"data row3 col1\" >$3.40</td>\n",
       "                        <td id=\"T_0de992b8_e42a_11ea_8cbd_4ceb4264986brow3_col2\" class=\"data row3 col2\" >$13.62</td>\n",
       "            </tr>\n",
       "            <tr>\n",
       "                        <th id=\"T_0de992b8_e42a_11ea_8cbd_4ceb4264986blevel0_row4\" class=\"row_heading level0 row4\" >Iskadarya95</th>\n",
       "                        <td id=\"T_0de992b8_e42a_11ea_8cbd_4ceb4264986brow4_col0\" class=\"data row4 col0\" >3</td>\n",
       "                        <td id=\"T_0de992b8_e42a_11ea_8cbd_4ceb4264986brow4_col1\" class=\"data row4 col1\" >$4.37</td>\n",
       "                        <td id=\"T_0de992b8_e42a_11ea_8cbd_4ceb4264986brow4_col2\" class=\"data row4 col2\" >$13.10</td>\n",
       "            </tr>\n",
       "    </tbody></table>"
      ],
      "text/plain": [
       "<pandas.io.formats.style.Styler at 0x24b409a3e48>"
      ]
     },
     "execution_count": 11,
     "metadata": {},
     "output_type": "execute_result"
    }
   ],
   "source": [
    "# Group purchase data\n",
    "spenders = purchase_data.groupby(\"SN\")\n",
    "\n",
    "# Purchase Count, avg. purchase price, total purchase value\n",
    "count_spender = spenders[\"Purchase ID\"].count()\n",
    "avg_spender = spenders[\"Price\"].mean()\n",
    "purchase_spender = spenders[\"Price\"].sum()\n",
    "#print(count_spender, avg_spender, purchase_spender)\n",
    "\n",
    "# Create data frame with obtained values\n",
    "top_spenders = pd.DataFrame({\"Purchase Count\": count_spender,\n",
    "                             \"Average Purchase Price\": avg_spender,\n",
    "                             \"Total Purchase Value\":purchase_spender})\n",
    "\n",
    "# Descending order\n",
    "descending_spenders = top_spenders.sort_values([\"Total Purchase Value\"], ascending=False,).head()\n",
    "\n",
    "# Format with currency style\n",
    "descending_spenders.style.format({\"Average Purchase Total\":\"${:,.2f}\",\n",
    "                                 \"Average Purchase Price\":\"${:,.2f}\", \n",
    "                                 \"Total Purchase Value\":\"${:,.2f}\"})"
   ]
  },
  {
   "cell_type": "markdown",
   "metadata": {},
   "source": [
    "## Most Popular Items"
   ]
  },
  {
   "cell_type": "markdown",
   "metadata": {},
   "source": [
    "* Retrieve the Item ID, Item Name, and Item Price columns\n",
    "\n",
    "\n",
    "* Group by Item ID and Item Name. Perform calculations to obtain purchase count, item price, and total purchase value\n",
    "\n",
    "\n",
    "* Create a summary data frame to hold the results\n",
    "\n",
    "\n",
    "* Sort the purchase count column in descending order\n",
    "\n",
    "\n",
    "* Optional: give the displayed data cleaner formatting\n",
    "\n",
    "\n",
    "* Display a preview of the summary data frame\n",
    "\n"
   ]
  },
  {
   "cell_type": "code",
   "execution_count": 12,
   "metadata": {},
   "outputs": [
    {
     "data": {
      "text/html": [
       "<style  type=\"text/css\" >\n",
       "</style><table id=\"T_13d4f43a_e42a_11ea_ab6f_4ceb4264986b\" ><thead>    <tr>        <th class=\"blank\" ></th>        <th class=\"blank level0\" ></th>        <th class=\"col_heading level0 col0\" >Purchase Count</th>        <th class=\"col_heading level0 col1\" >Item Price</th>        <th class=\"col_heading level0 col2\" >Total Purchase Value</th>    </tr>    <tr>        <th class=\"index_name level0\" >Item ID</th>        <th class=\"index_name level1\" >Item Name</th>        <th class=\"blank\" ></th>        <th class=\"blank\" ></th>        <th class=\"blank\" ></th>    </tr></thead><tbody>\n",
       "                <tr>\n",
       "                        <th id=\"T_13d4f43a_e42a_11ea_ab6f_4ceb4264986blevel0_row0\" class=\"row_heading level0 row0\" >92</th>\n",
       "                        <th id=\"T_13d4f43a_e42a_11ea_ab6f_4ceb4264986blevel1_row0\" class=\"row_heading level1 row0\" >Final Critic</th>\n",
       "                        <td id=\"T_13d4f43a_e42a_11ea_ab6f_4ceb4264986brow0_col0\" class=\"data row0 col0\" >13</td>\n",
       "                        <td id=\"T_13d4f43a_e42a_11ea_ab6f_4ceb4264986brow0_col1\" class=\"data row0 col1\" >$4.61</td>\n",
       "                        <td id=\"T_13d4f43a_e42a_11ea_ab6f_4ceb4264986brow0_col2\" class=\"data row0 col2\" >$59.99</td>\n",
       "            </tr>\n",
       "            <tr>\n",
       "                        <th id=\"T_13d4f43a_e42a_11ea_ab6f_4ceb4264986blevel0_row1\" class=\"row_heading level0 row1\" >178</th>\n",
       "                        <th id=\"T_13d4f43a_e42a_11ea_ab6f_4ceb4264986blevel1_row1\" class=\"row_heading level1 row1\" >Oathbreaker, Last Hope of the Breaking Storm</th>\n",
       "                        <td id=\"T_13d4f43a_e42a_11ea_ab6f_4ceb4264986brow1_col0\" class=\"data row1 col0\" >12</td>\n",
       "                        <td id=\"T_13d4f43a_e42a_11ea_ab6f_4ceb4264986brow1_col1\" class=\"data row1 col1\" >$4.23</td>\n",
       "                        <td id=\"T_13d4f43a_e42a_11ea_ab6f_4ceb4264986brow1_col2\" class=\"data row1 col2\" >$50.76</td>\n",
       "            </tr>\n",
       "            <tr>\n",
       "                        <th id=\"T_13d4f43a_e42a_11ea_ab6f_4ceb4264986blevel0_row2\" class=\"row_heading level0 row2\" >145</th>\n",
       "                        <th id=\"T_13d4f43a_e42a_11ea_ab6f_4ceb4264986blevel1_row2\" class=\"row_heading level1 row2\" >Fiery Glass Crusader</th>\n",
       "                        <td id=\"T_13d4f43a_e42a_11ea_ab6f_4ceb4264986brow2_col0\" class=\"data row2 col0\" >9</td>\n",
       "                        <td id=\"T_13d4f43a_e42a_11ea_ab6f_4ceb4264986brow2_col1\" class=\"data row2 col1\" >$4.58</td>\n",
       "                        <td id=\"T_13d4f43a_e42a_11ea_ab6f_4ceb4264986brow2_col2\" class=\"data row2 col2\" >$41.22</td>\n",
       "            </tr>\n",
       "            <tr>\n",
       "                        <th id=\"T_13d4f43a_e42a_11ea_ab6f_4ceb4264986blevel0_row3\" class=\"row_heading level0 row3\" >132</th>\n",
       "                        <th id=\"T_13d4f43a_e42a_11ea_ab6f_4ceb4264986blevel1_row3\" class=\"row_heading level1 row3\" >Persuasion</th>\n",
       "                        <td id=\"T_13d4f43a_e42a_11ea_ab6f_4ceb4264986brow3_col0\" class=\"data row3 col0\" >9</td>\n",
       "                        <td id=\"T_13d4f43a_e42a_11ea_ab6f_4ceb4264986brow3_col1\" class=\"data row3 col1\" >$3.22</td>\n",
       "                        <td id=\"T_13d4f43a_e42a_11ea_ab6f_4ceb4264986brow3_col2\" class=\"data row3 col2\" >$28.99</td>\n",
       "            </tr>\n",
       "            <tr>\n",
       "                        <th id=\"T_13d4f43a_e42a_11ea_ab6f_4ceb4264986blevel0_row4\" class=\"row_heading level0 row4\" >108</th>\n",
       "                        <th id=\"T_13d4f43a_e42a_11ea_ab6f_4ceb4264986blevel1_row4\" class=\"row_heading level1 row4\" >Extraction, Quickblade Of Trembling Hands</th>\n",
       "                        <td id=\"T_13d4f43a_e42a_11ea_ab6f_4ceb4264986brow4_col0\" class=\"data row4 col0\" >9</td>\n",
       "                        <td id=\"T_13d4f43a_e42a_11ea_ab6f_4ceb4264986brow4_col1\" class=\"data row4 col1\" >$3.53</td>\n",
       "                        <td id=\"T_13d4f43a_e42a_11ea_ab6f_4ceb4264986brow4_col2\" class=\"data row4 col2\" >$31.77</td>\n",
       "            </tr>\n",
       "    </tbody></table>"
      ],
      "text/plain": [
       "<pandas.io.formats.style.Styler at 0x24b40af8348>"
      ]
     },
     "execution_count": 12,
     "metadata": {},
     "output_type": "execute_result"
    }
   ],
   "source": [
    "# Create new data frame and group ID and Item Name\n",
    "items = purchase_data[[\"Item ID\", \"Item Name\", \"Price\"]]\n",
    "popular_item = items.groupby([\"Item ID\",\"Item Name\"])\n",
    "\n",
    "#Do calculations to obtain purchase count, item price, and total purchase value\n",
    "purchase_count = popular_item[\"Price\"].count()\n",
    "purchase_value = (popular_item[\"Price\"].sum()) \n",
    "item_price = purchase_value/purchase_count\n",
    "#purchase_count, purchase_value, item_price\n",
    "\n",
    "# Create data frame\n",
    "most_popular = pd.DataFrame({\"Purchase Count\": purchase_count, \n",
    "                                   \"Item Price\": item_price,\n",
    "                                   \"Total Purchase Value\":purchase_value})\n",
    "\n",
    "# Descending order\n",
    "summary_popular = most_popular.sort_values([\"Purchase Count\"], ascending=False).head()\n",
    "\n",
    "#cleaner formatting\n",
    "summary_popular.style.format({\"Item Price\":\"${:,.2f}\",\n",
    "                              \"Total Purchase Value\":\"${:,.2f}\"})"
   ]
  },
  {
   "cell_type": "markdown",
   "metadata": {},
   "source": [
    "## Most Profitable Items"
   ]
  },
  {
   "cell_type": "markdown",
   "metadata": {},
   "source": [
    "* Sort the above table by total purchase value in descending order\n",
    "\n",
    "\n",
    "* Optional: give the displayed data cleaner formatting\n",
    "\n",
    "\n",
    "* Display a preview of the data frame\n",
    "\n"
   ]
  },
  {
   "cell_type": "code",
   "execution_count": 13,
   "metadata": {
    "scrolled": true
   },
   "outputs": [
    {
     "data": {
      "text/html": [
       "<style  type=\"text/css\" >\n",
       "</style><table id=\"T_1758ea8a_e42a_11ea_95d2_4ceb4264986b\" ><thead>    <tr>        <th class=\"blank\" ></th>        <th class=\"blank level0\" ></th>        <th class=\"col_heading level0 col0\" >Purchase Count</th>        <th class=\"col_heading level0 col1\" >Item Price</th>        <th class=\"col_heading level0 col2\" >Total Purchase Value</th>    </tr>    <tr>        <th class=\"index_name level0\" >Item ID</th>        <th class=\"index_name level1\" >Item Name</th>        <th class=\"blank\" ></th>        <th class=\"blank\" ></th>        <th class=\"blank\" ></th>    </tr></thead><tbody>\n",
       "                <tr>\n",
       "                        <th id=\"T_1758ea8a_e42a_11ea_95d2_4ceb4264986blevel0_row0\" class=\"row_heading level0 row0\" >92</th>\n",
       "                        <th id=\"T_1758ea8a_e42a_11ea_95d2_4ceb4264986blevel1_row0\" class=\"row_heading level1 row0\" >Final Critic</th>\n",
       "                        <td id=\"T_1758ea8a_e42a_11ea_95d2_4ceb4264986brow0_col0\" class=\"data row0 col0\" >13</td>\n",
       "                        <td id=\"T_1758ea8a_e42a_11ea_95d2_4ceb4264986brow0_col1\" class=\"data row0 col1\" >$4.61</td>\n",
       "                        <td id=\"T_1758ea8a_e42a_11ea_95d2_4ceb4264986brow0_col2\" class=\"data row0 col2\" >$59.99</td>\n",
       "            </tr>\n",
       "            <tr>\n",
       "                        <th id=\"T_1758ea8a_e42a_11ea_95d2_4ceb4264986blevel0_row1\" class=\"row_heading level0 row1\" >178</th>\n",
       "                        <th id=\"T_1758ea8a_e42a_11ea_95d2_4ceb4264986blevel1_row1\" class=\"row_heading level1 row1\" >Oathbreaker, Last Hope of the Breaking Storm</th>\n",
       "                        <td id=\"T_1758ea8a_e42a_11ea_95d2_4ceb4264986brow1_col0\" class=\"data row1 col0\" >12</td>\n",
       "                        <td id=\"T_1758ea8a_e42a_11ea_95d2_4ceb4264986brow1_col1\" class=\"data row1 col1\" >$4.23</td>\n",
       "                        <td id=\"T_1758ea8a_e42a_11ea_95d2_4ceb4264986brow1_col2\" class=\"data row1 col2\" >$50.76</td>\n",
       "            </tr>\n",
       "            <tr>\n",
       "                        <th id=\"T_1758ea8a_e42a_11ea_95d2_4ceb4264986blevel0_row2\" class=\"row_heading level0 row2\" >82</th>\n",
       "                        <th id=\"T_1758ea8a_e42a_11ea_95d2_4ceb4264986blevel1_row2\" class=\"row_heading level1 row2\" >Nirvana</th>\n",
       "                        <td id=\"T_1758ea8a_e42a_11ea_95d2_4ceb4264986brow2_col0\" class=\"data row2 col0\" >9</td>\n",
       "                        <td id=\"T_1758ea8a_e42a_11ea_95d2_4ceb4264986brow2_col1\" class=\"data row2 col1\" >$4.90</td>\n",
       "                        <td id=\"T_1758ea8a_e42a_11ea_95d2_4ceb4264986brow2_col2\" class=\"data row2 col2\" >$44.10</td>\n",
       "            </tr>\n",
       "            <tr>\n",
       "                        <th id=\"T_1758ea8a_e42a_11ea_95d2_4ceb4264986blevel0_row3\" class=\"row_heading level0 row3\" >145</th>\n",
       "                        <th id=\"T_1758ea8a_e42a_11ea_95d2_4ceb4264986blevel1_row3\" class=\"row_heading level1 row3\" >Fiery Glass Crusader</th>\n",
       "                        <td id=\"T_1758ea8a_e42a_11ea_95d2_4ceb4264986brow3_col0\" class=\"data row3 col0\" >9</td>\n",
       "                        <td id=\"T_1758ea8a_e42a_11ea_95d2_4ceb4264986brow3_col1\" class=\"data row3 col1\" >$4.58</td>\n",
       "                        <td id=\"T_1758ea8a_e42a_11ea_95d2_4ceb4264986brow3_col2\" class=\"data row3 col2\" >$41.22</td>\n",
       "            </tr>\n",
       "            <tr>\n",
       "                        <th id=\"T_1758ea8a_e42a_11ea_95d2_4ceb4264986blevel0_row4\" class=\"row_heading level0 row4\" >103</th>\n",
       "                        <th id=\"T_1758ea8a_e42a_11ea_95d2_4ceb4264986blevel1_row4\" class=\"row_heading level1 row4\" >Singed Scalpel</th>\n",
       "                        <td id=\"T_1758ea8a_e42a_11ea_95d2_4ceb4264986brow4_col0\" class=\"data row4 col0\" >8</td>\n",
       "                        <td id=\"T_1758ea8a_e42a_11ea_95d2_4ceb4264986brow4_col1\" class=\"data row4 col1\" >$4.35</td>\n",
       "                        <td id=\"T_1758ea8a_e42a_11ea_95d2_4ceb4264986brow4_col2\" class=\"data row4 col2\" >$34.80</td>\n",
       "            </tr>\n",
       "    </tbody></table>"
      ],
      "text/plain": [
       "<pandas.io.formats.style.Styler at 0x24b40a717c8>"
      ]
     },
     "execution_count": 13,
     "metadata": {},
     "output_type": "execute_result"
    }
   ],
   "source": [
    "# Take the most_popular items data frame and change the sorting to find highest total purchase value\n",
    "summary_popular = most_popular.sort_values([\"Total Purchase Value\"],ascending=False).head()\n",
    "#print(summary_popular)\n",
    "\n",
    "#cleaner formatting\n",
    "summary_popular.style.format({\"Item Price\":\"${:,.2f}\",\n",
    "                                \"Total Purchase Value\":\"${:,.2f}\"})"
   ]
  }
 ],
 "metadata": {
  "anaconda-cloud": {},
  "kernel_info": {
   "name": "python3"
  },
  "kernelspec": {
   "display_name": "Python 3",
   "language": "python",
   "name": "python3"
  },
  "language_info": {
   "codemirror_mode": {
    "name": "ipython",
    "version": 3
   },
   "file_extension": ".py",
   "mimetype": "text/x-python",
   "name": "python",
   "nbconvert_exporter": "python",
   "pygments_lexer": "ipython3",
   "version": "3.7.6"
  },
  "latex_envs": {
   "LaTeX_envs_menu_present": true,
   "autoclose": false,
   "autocomplete": true,
   "bibliofile": "biblio.bib",
   "cite_by": "apalike",
   "current_citInitial": 1,
   "eqLabelWithNumbers": true,
   "eqNumInitial": 1,
   "hotkeys": {
    "equation": "Ctrl-E",
    "itemize": "Ctrl-I"
   },
   "labels_anchors": false,
   "latex_user_defs": false,
   "report_style_numbering": false,
   "user_envs_cfg": false
  },
  "nteract": {
   "version": "0.2.0"
  }
 },
 "nbformat": 4,
 "nbformat_minor": 2
}
